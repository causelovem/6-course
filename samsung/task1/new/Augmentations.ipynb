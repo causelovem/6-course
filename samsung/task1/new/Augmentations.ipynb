{
 "cells": [
  {
   "cell_type": "code",
   "execution_count": 1,
   "metadata": {},
   "outputs": [],
   "source": [
    "%matplotlib inline\n",
    "\n",
    "import os\n",
    "import pandas as pd\n",
    "from sklearn.model_selection import ShuffleSplit\n",
    "import numpy as np\n",
    "import torch\n",
    "import random\n",
    "\n",
    "from myUtils import visualize_random_image, make_validation, get_model, get_test_predictions, get_sub_list, write_submission, get_aug\n",
    "from dataset import parse_dataset, RSNADataset, get_dicom_fps, RSNAAlbumentationsDataset, convertAnnotations, visualize\n",
    "\n",
    "from albumentations import (\n",
    "    BboxParams,\n",
    "    HorizontalFlip,\n",
    "    VerticalFlip,\n",
    "    Resize,\n",
    "    CenterCrop,\n",
    "    RandomCrop,\n",
    "    Crop,\n",
    "    Compose,\n",
    "    Flip,\n",
    "    Rotate,\n",
    "    RandomSizedBBoxSafeCrop\n",
    ")"
   ]
  },
  {
   "cell_type": "code",
   "execution_count": 2,
   "metadata": {},
   "outputs": [],
   "source": [
    "def set_seed(seed):\n",
    "    torch.backends.cudnn.deterministic = True\n",
    "    torch.backends.cudnn.benchmark = False\n",
    "    torch.manual_seed(seed)\n",
    "    torch.cuda.manual_seed_all(seed)\n",
    "    np.random.seed(seed)\n",
    "    random.seed(seed)\n",
    "\n",
    "set_seed(42)"
   ]
  },
  {
   "cell_type": "markdown",
   "metadata": {},
   "outputs": [],
   "source": [
    "## Загрузим датасет\n",
    "\n",
    "Данные скачивались с https://www.kaggle.com/c/rsna-pneumonia-detection-challenge/data . Для дальнейшей работы укажите в переменной data_path локальный путь к данным."
   ]
  },
  {
   "cell_type": "code",
   "execution_count": 3,
   "metadata": {},
   "outputs": [],
   "source": [
    "data_path = \"/mnt/ubuntu_hdd/rsna\"\n",
    "train_img_path = os.path.join(data_path, \"stage_2_train_images\")\n",
    "annotations = pd.read_csv(os.path.join(data_path, \"stage_2_train_labels.csv\"))\n",
    "\n",
    "image_fps, image_annotations = parse_dataset(train_img_path, anns=annotations)"
   ]
  },
  {
   "cell_type": "markdown",
   "metadata": {},
   "outputs": [],
   "source": [
    "## Обучение"
   ]
  },
  {
   "cell_type": "code",
   "execution_count": 8,
   "metadata": {},
   "outputs": [
    {
     "name": "stdout",
     "output_type": "stream",
     "text": "your device: cuda\nepoch 0\nEpoch: [0]  [ 0/58]  eta: 0:01:33  lr: 0.005000  loss: 0.7534 (0.7534)  loss_classifier: 0.6094 (0.6094)  loss_box_reg: 0.0571 (0.0571)  loss_objectness: 0.0642 (0.0642)  loss_rpn_box_reg: 0.0227 (0.0227)  time: 1.6107  data: 0.5740  max mem: 4498\nEpoch: [0]  [10/58]  eta: 0:00:48  lr: 0.005000  loss: 0.3647 (0.3961)  loss_classifier: 0.1668 (0.2105)  loss_box_reg: 0.0979 (0.0957)  loss_objectness: 0.0690 (0.0719)  loss_rpn_box_reg: 0.0160 (0.0179)  time: 1.0114  data: 0.0659  max mem: 4759\nEpoch: [0]  [20/58]  eta: 0:00:37  lr: 0.005000  loss: 0.3228 (0.3438)  loss_classifier: 0.1374 (0.1711)  loss_box_reg: 0.1030 (0.1048)  loss_objectness: 0.0406 (0.0518)  loss_rpn_box_reg: 0.0150 (0.0161)  time: 0.9517  data: 0.0153  max mem: 4760\nEpoch: [0]  [30/58]  eta: 0:00:27  lr: 0.005000  loss: 0.2760 (0.3223)  loss_classifier: 0.1247 (0.1540)  loss_box_reg: 0.1132 (0.1084)  loss_objectness: 0.0237 (0.0440)  loss_rpn_box_reg: 0.0150 (0.0159)  time: 0.9512  data: 0.0170  max mem: 4760\nEpoch: [0]  [40/58]  eta: 0:00:17  lr: 0.005000  loss: 0.2635 (0.3068)  loss_classifier: 0.1187 (0.1443)  loss_box_reg: 0.1132 (0.1102)  loss_objectness: 0.0157 (0.0371)  loss_rpn_box_reg: 0.0142 (0.0151)  time: 0.9529  data: 0.0180  max mem: 4760\nEpoch: [0]  [50/58]  eta: 0:00:07  lr: 0.005000  loss: 0.2674 (0.3074)  loss_classifier: 0.1235 (0.1456)  loss_box_reg: 0.1202 (0.1121)  loss_objectness: 0.0172 (0.0350)  loss_rpn_box_reg: 0.0117 (0.0147)  time: 0.9532  data: 0.0181  max mem: 4760\nEpoch: [0]  [57/58]  eta: 0:00:00  lr: 0.005000  loss: 0.2570 (0.3002)  loss_classifier: 0.1186 (0.1423)  loss_box_reg: 0.1166 (0.1115)  loss_objectness: 0.0114 (0.0321)  loss_rpn_box_reg: 0.0111 (0.0143)  time: 0.9501  data: 0.0182  max mem: 4760\nEpoch: [0] Total time: 0:00:55 (0.9635 s / it)\n\nscore: 0.015221621488512685\nepoch 1\nEpoch: [1]  [ 0/58]  eta: 0:01:26  lr: 0.005000  loss: 0.2707 (0.2707)  loss_classifier: 0.1290 (0.1290)  loss_box_reg: 0.1154 (0.1154)  loss_objectness: 0.0124 (0.0124)  loss_rpn_box_reg: 0.0140 (0.0140)  time: 1.4973  data: 0.5398  max mem: 4760\nEpoch: [1]  [10/58]  eta: 0:00:47  lr: 0.005000  loss: 0.2707 (0.2685)  loss_classifier: 0.1273 (0.1273)  loss_box_reg: 0.1154 (0.1152)  loss_objectness: 0.0077 (0.0123)  loss_rpn_box_reg: 0.0140 (0.0137)  time: 0.9982  data: 0.0623  max mem: 4760\nEpoch: [1]  [20/58]  eta: 0:00:36  lr: 0.005000  loss: 0.2667 (0.2657)  loss_classifier: 0.1273 (0.1284)  loss_box_reg: 0.1060 (0.1108)  loss_objectness: 0.0106 (0.0136)  loss_rpn_box_reg: 0.0126 (0.0128)  time: 0.9410  data: 0.0154  max mem: 4760\nEpoch: [1]  [30/58]  eta: 0:00:26  lr: 0.005000  loss: 0.2488 (0.2567)  loss_classifier: 0.1174 (0.1247)  loss_box_reg: 0.1010 (0.1069)  loss_objectness: 0.0106 (0.0126)  loss_rpn_box_reg: 0.0115 (0.0126)  time: 0.9372  data: 0.0172  max mem: 4760\nEpoch: [1]  [40/58]  eta: 0:00:17  lr: 0.005000  loss: 0.2355 (0.2544)  loss_classifier: 0.1132 (0.1237)  loss_box_reg: 0.0938 (0.1051)  loss_objectness: 0.0101 (0.0130)  loss_rpn_box_reg: 0.0115 (0.0126)  time: 0.9383  data: 0.0176  max mem: 4760\nEpoch: [1]  [50/58]  eta: 0:00:07  lr: 0.005000  loss: 0.2273 (0.2479)  loss_classifier: 0.1127 (0.1205)  loss_box_reg: 0.0937 (0.1027)  loss_objectness: 0.0103 (0.0124)  loss_rpn_box_reg: 0.0117 (0.0123)  time: 0.9343  data: 0.0162  max mem: 4760\nEpoch: [1]  [57/58]  eta: 0:00:00  lr: 0.005000  loss: 0.2190 (0.2437)  loss_classifier: 0.1012 (0.1187)  loss_box_reg: 0.0886 (0.1007)  loss_objectness: 0.0086 (0.0122)  loss_rpn_box_reg: 0.0100 (0.0120)  time: 0.9455  data: 0.0172  max mem: 4760\nEpoch: [1] Total time: 0:00:55 (0.9522 s / it)\n\nscore: 0.03524877150519372\nepoch 2\nEpoch: [2]  [ 0/58]  eta: 0:01:28  lr: 0.000500  loss: 0.1833 (0.1833)  loss_classifier: 0.0856 (0.0856)  loss_box_reg: 0.0797 (0.0797)  loss_objectness: 0.0074 (0.0074)  loss_rpn_box_reg: 0.0106 (0.0106)  time: 1.5231  data: 0.5329  max mem: 4760\nEpoch: [2]  [10/58]  eta: 0:00:48  lr: 0.000500  loss: 0.1933 (0.1950)  loss_classifier: 0.0922 (0.0936)  loss_box_reg: 0.0812 (0.0844)  loss_objectness: 0.0072 (0.0073)  loss_rpn_box_reg: 0.0094 (0.0098)  time: 1.0174  data: 0.0641  max mem: 4760\nEpoch: [2]  [20/58]  eta: 0:00:37  lr: 0.000500  loss: 0.1949 (0.2004)  loss_classifier: 0.0955 (0.0982)  loss_box_reg: 0.0827 (0.0858)  loss_objectness: 0.0058 (0.0067)  loss_rpn_box_reg: 0.0094 (0.0096)  time: 0.9623  data: 0.0177  max mem: 4760\nEpoch: [2]  [30/58]  eta: 0:00:27  lr: 0.000500  loss: 0.1971 (0.1972)  loss_classifier: 0.0949 (0.0951)  loss_box_reg: 0.0857 (0.0856)  loss_objectness: 0.0048 (0.0065)  loss_rpn_box_reg: 0.0099 (0.0100)  time: 0.9593  data: 0.0185  max mem: 4760\nEpoch: [2]  [40/58]  eta: 0:00:17  lr: 0.000500  loss: 0.2014 (0.1980)  loss_classifier: 0.0926 (0.0955)  loss_box_reg: 0.0845 (0.0852)  loss_objectness: 0.0049 (0.0067)  loss_rpn_box_reg: 0.0104 (0.0106)  time: 0.9552  data: 0.0185  max mem: 4760\nEpoch: [2]  [50/58]  eta: 0:00:07  lr: 0.000500  loss: 0.1956 (0.1957)  loss_classifier: 0.0910 (0.0938)  loss_box_reg: 0.0811 (0.0850)  loss_objectness: 0.0049 (0.0063)  loss_rpn_box_reg: 0.0100 (0.0105)  time: 0.9537  data: 0.0180  max mem: 4760\nEpoch: [2]  [57/58]  eta: 0:00:00  lr: 0.000500  loss: 0.1802 (0.1938)  loss_classifier: 0.0861 (0.0928)  loss_box_reg: 0.0766 (0.0838)  loss_objectness: 0.0054 (0.0066)  loss_rpn_box_reg: 0.0100 (0.0106)  time: 0.9574  data: 0.0189  max mem: 4760\nEpoch: [2] Total time: 0:00:56 (0.9697 s / it)\n\nscore: 0.042342328763460314\nepoch 3\nEpoch: [3]  [ 0/58]  eta: 0:01:30  lr: 0.000500  loss: 0.1878 (0.1878)  loss_classifier: 0.1026 (0.1026)  loss_box_reg: 0.0671 (0.0671)  loss_objectness: 0.0106 (0.0106)  loss_rpn_box_reg: 0.0075 (0.0075)  time: 1.5573  data: 0.6178  max mem: 4760\nEpoch: [3]  [10/58]  eta: 0:00:48  lr: 0.000500  loss: 0.1909 (0.1937)  loss_classifier: 0.0928 (0.0942)  loss_box_reg: 0.0818 (0.0821)  loss_objectness: 0.0064 (0.0072)  loss_rpn_box_reg: 0.0100 (0.0103)  time: 1.0068  data: 0.0677  max mem: 4760\nEpoch: [3]  [20/58]  eta: 0:00:37  lr: 0.000500  loss: 0.1770 (0.1909)  loss_classifier: 0.0865 (0.0918)  loss_box_reg: 0.0797 (0.0825)  loss_objectness: 0.0050 (0.0061)  loss_rpn_box_reg: 0.0100 (0.0104)  time: 0.9501  data: 0.0144  max mem: 4760\nEpoch: [3]  [30/58]  eta: 0:00:27  lr: 0.000500  loss: 0.1751 (0.1895)  loss_classifier: 0.0842 (0.0908)  loss_box_reg: 0.0774 (0.0828)  loss_objectness: 0.0038 (0.0056)  loss_rpn_box_reg: 0.0101 (0.0104)  time: 0.9523  data: 0.0176  max mem: 4760\nEpoch: [3]  [40/58]  eta: 0:00:17  lr: 0.000500  loss: 0.1751 (0.1879)  loss_classifier: 0.0805 (0.0898)  loss_box_reg: 0.0774 (0.0826)  loss_objectness: 0.0031 (0.0053)  loss_rpn_box_reg: 0.0101 (0.0103)  time: 0.9518  data: 0.0182  max mem: 4760\nEpoch: [3]  [50/58]  eta: 0:00:07  lr: 0.000500  loss: 0.1724 (0.1867)  loss_classifier: 0.0837 (0.0893)  loss_box_reg: 0.0761 (0.0819)  loss_objectness: 0.0039 (0.0054)  loss_rpn_box_reg: 0.0089 (0.0101)  time: 0.9554  data: 0.0180  max mem: 4760\nEpoch: [3]  [57/58]  eta: 0:00:00  lr: 0.000500  loss: 0.1701 (0.1855)  loss_classifier: 0.0808 (0.0889)  loss_box_reg: 0.0730 (0.0811)  loss_objectness: 0.0036 (0.0053)  loss_rpn_box_reg: 0.0092 (0.0102)  time: 0.9592  data: 0.0187  max mem: 4760\nEpoch: [3] Total time: 0:00:55 (0.9653 s / it)\n\nscore: 0.05137172165793892\nepoch 4\nEpoch: [4]  [ 0/58]  eta: 0:01:28  lr: 0.000050  loss: 0.1380 (0.1380)  loss_classifier: 0.0619 (0.0619)  loss_box_reg: 0.0618 (0.0618)  loss_objectness: 0.0062 (0.0062)  loss_rpn_box_reg: 0.0081 (0.0081)  time: 1.5331  data: 0.5253  max mem: 4760\nEpoch: [4]  [10/58]  eta: 0:00:48  lr: 0.000050  loss: 0.1855 (0.1801)  loss_classifier: 0.0893 (0.0854)  loss_box_reg: 0.0784 (0.0801)  loss_objectness: 0.0034 (0.0039)  loss_rpn_box_reg: 0.0113 (0.0107)  time: 1.0183  data: 0.0642  max mem: 4760\nEpoch: [4]  [20/58]  eta: 0:00:37  lr: 0.000050  loss: 0.1855 (0.1855)  loss_classifier: 0.0812 (0.0880)  loss_box_reg: 0.0789 (0.0821)  loss_objectness: 0.0035 (0.0046)  loss_rpn_box_reg: 0.0113 (0.0107)  time: 0.9659  data: 0.0178  max mem: 4760\nEpoch: [4]  [30/58]  eta: 0:00:27  lr: 0.000050  loss: 0.1702 (0.1801)  loss_classifier: 0.0780 (0.0855)  loss_box_reg: 0.0782 (0.0788)  loss_objectness: 0.0044 (0.0051)  loss_rpn_box_reg: 0.0108 (0.0107)  time: 0.9640  data: 0.0180  max mem: 4760\nEpoch: [4]  [40/58]  eta: 0:00:17  lr: 0.000050  loss: 0.1673 (0.1789)  loss_classifier: 0.0780 (0.0848)  loss_box_reg: 0.0729 (0.0793)  loss_objectness: 0.0034 (0.0048)  loss_rpn_box_reg: 0.0091 (0.0101)  time: 0.9660  data: 0.0189  max mem: 4760\nEpoch: [4]  [50/58]  eta: 0:00:07  lr: 0.000050  loss: 0.1757 (0.1771)  loss_classifier: 0.0842 (0.0837)  loss_box_reg: 0.0746 (0.0786)  loss_objectness: 0.0031 (0.0046)  loss_rpn_box_reg: 0.0092 (0.0102)  time: 0.9659  data: 0.0189  max mem: 4760\nEpoch: [4]  [57/58]  eta: 0:00:00  lr: 0.000050  loss: 0.1761 (0.1769)  loss_classifier: 0.0882 (0.0838)  loss_box_reg: 0.0746 (0.0781)  loss_objectness: 0.0040 (0.0051)  loss_rpn_box_reg: 0.0090 (0.0100)  time: 0.9639  data: 0.0189  max mem: 4760\nEpoch: [4] Total time: 0:00:56 (0.9758 s / it)\n\nscore: 0.05181137390639624\naverage val score: 0.05181137390639624\n"
    },
    {
     "data": {
      "application/vnd.jupyter.widget-view+json": {
       "model_id": "d302ab03fc7944b8ba220231cb3cff75",
       "version_major": 2,
       "version_minor": 0
      },
      "text/plain": "HBox(children=(IntProgress(value=0, max=34), HTML(value='')))"
     },
     "metadata": {},
     "output_type": "display_data"
    },
    {
     "data": {
      "application/vnd.jupyter.widget-view+json": {
       "model_id": "172bb27060fd46a0a708996a85e19b32",
       "version_major": 2,
       "version_minor": 0
      },
      "text/plain": "HBox(children=(IntProgress(value=0, max=34), HTML(value='')))"
     },
     "metadata": {},
     "output_type": "display_data"
    },
    {
     "data": {
      "application/vnd.jupyter.widget-view+json": {
       "model_id": "06dfe9f66715456f94d08a277af73037",
       "version_major": 2,
       "version_minor": 0
      },
      "text/plain": "HBox(children=(IntProgress(value=0, max=34), HTML(value='')))"
     },
     "metadata": {},
     "output_type": "display_data"
    },
    {
     "data": {
      "application/vnd.jupyter.widget-view+json": {
       "model_id": "5cde70ec079d488891ef27b0a0d08d77",
       "version_major": 2,
       "version_minor": 0
      },
      "text/plain": "HBox(children=(IntProgress(value=0, max=34), HTML(value='')))"
     },
     "metadata": {},
     "output_type": "display_data"
    },
    {
     "data": {
      "application/vnd.jupyter.widget-view+json": {
       "model_id": "d45bef71c8d04575ab11c994c59b96f3",
       "version_major": 2,
       "version_minor": 0
      },
      "text/plain": "HBox(children=(IntProgress(value=0, max=34), HTML(value='')))"
     },
     "metadata": {},
     "output_type": "display_data"
    }
   ],
   "source": [
    "device = torch.device(\"cuda\") if torch.cuda.is_available() else torch.device(\"cpu\")\n",
    "num_classes = 2\n",
    "img_size = 1024\n",
    "print(\"your device: {}\".format(device))\n",
    "\n",
    "# Аугментация\n",
    "# aug = get_aug([Flip(p=0.5), Rotate(limit=15, p=0.5), RandomSizedBBoxSafeCrop(img_size, img_size, p=0.5)])\n",
    "aug = get_aug([Flip(p=0.5), Rotate(limit=15, p=0.5)])\n",
    "\n",
    "# Для аккуратной валидации используйте больше разбиений\n",
    "n_splits = 1\n",
    "cv = list(ShuffleSplit(n_splits=n_splits, random_state=15, test_size=0.2).split(np.zeros((len(image_fps), 1)),\n",
    "                                                                   np.zeros(len(image_fps))))\n",
    "\n",
    "params = {\"img_size\": img_size, \"num_classes\": num_classes, \"num_epochs\": 5, \"device\": device}\n",
    "\n",
    "images_files = np.array(image_fps)\n",
    "\n",
    "make_validation(images_files=images_files, image_annotations=image_annotations, cv=cv, params=params, dataset=\"RSNADataset\", transformations=None)\n",
    "# make_validation(images_files=images_files, image_annotations=image_annotations, cv=cv, params=params)"
   ]
  },
  {
   "cell_type": "markdown",
   "execution_count": 6,
   "metadata": {},
   "outputs": [],
   "source": [
    "## Test"
   ]
  },
  {
   "cell_type": "code",
   "execution_count": 9,
   "metadata": {},
   "outputs": [
    {
     "data": {
      "application/vnd.jupyter.widget-view+json": {
       "model_id": "2d2d6213a3ec44309be9d4f42b4ce0ae",
       "version_major": 2,
       "version_minor": 0
      },
      "text/plain": "HBox(children=(IntProgress(value=0, max=3000), HTML(value='')))"
     },
     "metadata": {},
     "output_type": "display_data"
    },
    {
     "name": "stdout",
     "output_type": "stream",
     "text": "\n"
    }
   ],
   "source": [
    "model = get_model(num_classes=num_classes)\n",
    "model.load_state_dict(torch.load(\"fold_num_0_model\"))\n",
    "model.to(device)\n",
    "\n",
    "test_images = get_dicom_fps(os.path.join(data_path, \"stage_2_test_images\"))\n",
    "\n",
    "imgs_info = get_test_predictions(model, test_images, device, img_size)\n",
    "\n",
    "# min_conf -- минимальный порог уверенности для того, чтобы считать объект пневмонией\n",
    "sub_list = get_sub_list(imgs_info, img_size, min_conf=0.7)\n",
    "\n",
    "write_submission(sub_list)"
   ]
  },
  {
   "cell_type": "code",
   "execution_count": null,
   "metadata": {},
   "outputs": [],
   "source": []
  }
 ],
 "metadata": {
  "file_extension": ".py",
  "kernelspec": {
   "display_name": "Python 3",
   "language": "python",
   "name": "python3"
  },
  "language_info": {
   "codemirror_mode": {
    "name": "ipython",
    "version": 3
   },
   "file_extension": ".py",
   "mimetype": "text/x-python",
   "name": "python",
   "nbconvert_exporter": "python",
   "pygments_lexer": "ipython3",
   "version": "3.6.9"
  },
  "mimetype": "text/x-python",
  "name": "python",
  "npconvert_exporter": "python",
  "pygments_lexer": "ipython3",
  "version": 3
 },
 "nbformat": 4,
 "nbformat_minor": 2
}