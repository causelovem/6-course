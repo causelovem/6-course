{
 "cells": [
  {
   "cell_type": "code",
   "execution_count": 1,
   "metadata": {},
   "outputs": [],
   "source": [
    "%matplotlib inline\n",
    "\n",
    "import os\n",
    "import pandas as pd\n",
    "from sklearn.model_selection import ShuffleSplit\n",
    "import numpy as np\n",
    "import torch\n",
    "import random\n",
    "\n",
    "from myUtils import visualize_random_image, make_validation, get_model, get_test_predictions, get_sub_list, write_submission, get_aug\n",
    "from dataset import parse_dataset, RSNADataset, get_dicom_fps, RSNAAlbumentationsDataset, convertAnnotations, visualize\n",
    "\n",
    "from albumentations import (\n",
    "    BboxParams,\n",
    "    HorizontalFlip,\n",
    "    VerticalFlip,\n",
    "    Resize,\n",
    "    CenterCrop,\n",
    "    RandomCrop,\n",
    "    Crop,\n",
    "    Compose,\n",
    "    Flip,\n",
    "    Rotate,\n",
    "    RandomSizedBBoxSafeCrop\n",
    ")"
   ]
  },
  {
   "cell_type": "code",
   "execution_count": 2,
   "metadata": {},
   "outputs": [],
   "source": [
    "def set_seed(seed):\n",
    "    torch.backends.cudnn.deterministic = True\n",
    "    torch.backends.cudnn.benchmark = False\n",
    "    torch.manual_seed(seed)\n",
    "    torch.cuda.manual_seed_all(seed)\n",
    "    np.random.seed(seed)\n",
    "    random.seed(seed)\n",
    "\n",
    "set_seed(42)"
   ]
  },
  {
   "cell_type": "markdown",
   "metadata": {},
   "outputs": [],
   "source": [
    "## Загрузим датасет\n",
    "\n",
    "Данные скачивались с https://www.kaggle.com/c/rsna-pneumonia-detection-challenge/data . Для дальнейшей работы укажите в переменной data_path локальный путь к данным."
   ]
  },
  {
   "cell_type": "code",
   "execution_count": 3,
   "metadata": {},
   "outputs": [],
   "source": [
    "data_path = \"/mnt/ubuntu_hdd/rsna\"\n",
    "train_img_path = os.path.join(data_path, \"stage_2_train_images\")\n",
    "annotations = pd.read_csv(os.path.join(data_path, \"stage_2_train_labels.csv\"))\n",
    "\n",
    "image_fps, image_annotations = parse_dataset(train_img_path, anns=annotations)"
   ]
  },
  {
   "cell_type": "markdown",
   "metadata": {},
   "outputs": [],
   "source": [
    "## Обучение нескольких моделей"
   ]
  },
  {
   "cell_type": "code",
   "execution_count": 4,
   "metadata": {},
   "outputs": [
    {
     "name": "stdout",
     "output_type": "stream",
     "text": "your device: cuda\nepoch 0\nEpoch: [0]  [ 0/58]  eta: 0:02:02  lr: 0.005000  loss: 0.6860 (0.6860)  loss_classifier: 0.4618 (0.4618)  loss_box_reg: 0.0316 (0.0316)  loss_objectness: 0.1736 (0.1736)  loss_rpn_box_reg: 0.0190 (0.0190)  time: 2.1153  data: 0.5595  max mem: 3854\nEpoch: [0]  [10/58]  eta: 0:00:54  lr: 0.005000  loss: 0.3513 (0.3762)  loss_classifier: 0.1597 (0.1879)  loss_box_reg: 0.0985 (0.0994)  loss_objectness: 0.0676 (0.0712)  loss_rpn_box_reg: 0.0190 (0.0177)  time: 1.1257  data: 0.0609  max mem: 4124\nEpoch: [0]  [20/58]  eta: 0:00:41  lr: 0.005000  loss: 0.2919 (0.3314)  loss_classifier: 0.1262 (0.1587)  loss_box_reg: 0.1107 (0.1049)  loss_objectness: 0.0319 (0.0511)  loss_rpn_box_reg: 0.0144 (0.0167)  time: 1.0288  data: 0.0121  max mem: 4124\nEpoch: [0]  [30/58]  eta: 0:00:29  lr: 0.005000  loss: 0.2890 (0.3209)  loss_classifier: 0.1259 (0.1503)  loss_box_reg: 0.1192 (0.1120)  loss_objectness: 0.0248 (0.0424)  loss_rpn_box_reg: 0.0144 (0.0163)  time: 1.0331  data: 0.0137  max mem: 4124\nEpoch: [0]  [40/58]  eta: 0:00:19  lr: 0.005000  loss: 0.2890 (0.3092)  loss_classifier: 0.1268 (0.1438)  loss_box_reg: 0.1209 (0.1137)  loss_objectness: 0.0165 (0.0362)  loss_rpn_box_reg: 0.0133 (0.0154)  time: 1.0358  data: 0.0138  max mem: 4124\nEpoch: [0]  [50/58]  eta: 0:00:08  lr: 0.005000  loss: 0.2903 (0.3051)  loss_classifier: 0.1268 (0.1430)  loss_box_reg: 0.1175 (0.1148)  loss_objectness: 0.0149 (0.0325)  loss_rpn_box_reg: 0.0128 (0.0148)  time: 1.0372  data: 0.0136  max mem: 4124\nEpoch: [0]  [57/58]  eta: 0:00:01  lr: 0.005000  loss: 0.2903 (0.3044)  loss_classifier: 0.1424 (0.1436)  loss_box_reg: 0.1150 (0.1154)  loss_objectness: 0.0166 (0.0309)  loss_rpn_box_reg: 0.0120 (0.0146)  time: 1.0371  data: 0.0135  max mem: 4124\nEpoch: [0] Total time: 0:01:01 (1.0531 s / it)\n\nscore: 0.013553014460267498\nepoch 1\nEpoch: [1]  [ 0/58]  eta: 0:01:31  lr: 0.005000  loss: 0.3105 (0.3105)  loss_classifier: 0.1457 (0.1457)  loss_box_reg: 0.1275 (0.1275)  loss_objectness: 0.0226 (0.0226)  loss_rpn_box_reg: 0.0148 (0.0148)  time: 1.5800  data: 0.5169  max mem: 4124\nEpoch: [1]  [10/58]  eta: 0:00:50  lr: 0.005000  loss: 0.2427 (0.2533)  loss_classifier: 0.1243 (0.1252)  loss_box_reg: 0.1033 (0.1049)  loss_objectness: 0.0095 (0.0114)  loss_rpn_box_reg: 0.0113 (0.0117)  time: 1.0578  data: 0.0566  max mem: 4125\nEpoch: [1]  [20/58]  eta: 0:00:39  lr: 0.005000  loss: 0.2417 (0.2489)  loss_classifier: 0.1212 (0.1231)  loss_box_reg: 0.0962 (0.1009)  loss_objectness: 0.0095 (0.0134)  loss_rpn_box_reg: 0.0105 (0.0115)  time: 0.9987  data: 0.0123  max mem: 4125\nEpoch: [1]  [30/58]  eta: 0:00:28  lr: 0.005000  loss: 0.2307 (0.2455)  loss_classifier: 0.1081 (0.1196)  loss_box_reg: 0.0928 (0.1007)  loss_objectness: 0.0109 (0.0131)  loss_rpn_box_reg: 0.0116 (0.0121)  time: 0.9897  data: 0.0135  max mem: 4125\nEpoch: [1]  [40/58]  eta: 0:00:18  lr: 0.005000  loss: 0.2191 (0.2397)  loss_classifier: 0.1065 (0.1164)  loss_box_reg: 0.0901 (0.0990)  loss_objectness: 0.0105 (0.0124)  loss_rpn_box_reg: 0.0125 (0.0119)  time: 1.0087  data: 0.0132  max mem: 4125\nEpoch: [1]  [50/58]  eta: 0:00:08  lr: 0.005000  loss: 0.2191 (0.2390)  loss_classifier: 0.1065 (0.1168)  loss_box_reg: 0.0901 (0.0991)  loss_objectness: 0.0092 (0.0116)  loss_rpn_box_reg: 0.0104 (0.0116)  time: 1.0397  data: 0.0139  max mem: 4125\nEpoch: [1]  [57/58]  eta: 0:00:01  lr: 0.005000  loss: 0.2063 (0.2349)  loss_classifier: 0.1041 (0.1143)  loss_box_reg: 0.0869 (0.0977)  loss_objectness: 0.0068 (0.0114)  loss_rpn_box_reg: 0.0099 (0.0115)  time: 1.0366  data: 0.0140  max mem: 4125\nEpoch: [1] Total time: 0:00:59 (1.0253 s / it)\n\nscore: 0.040569504500755776\nepoch 2\nEpoch: [2]  [ 0/58]  eta: 0:01:28  lr: 0.000500  loss: 0.1572 (0.1572)  loss_classifier: 0.0708 (0.0708)  loss_box_reg: 0.0745 (0.0745)  loss_objectness: 0.0019 (0.0019)  loss_rpn_box_reg: 0.0100 (0.0100)  time: 1.5272  data: 0.4809  max mem: 4125\nEpoch: [2]  [10/58]  eta: 0:00:50  lr: 0.000500  loss: 0.1884 (0.1807)  loss_classifier: 0.0878 (0.0851)  loss_box_reg: 0.0760 (0.0794)  loss_objectness: 0.0056 (0.0056)  loss_rpn_box_reg: 0.0099 (0.0106)  time: 1.0452  data: 0.0562  max mem: 4125\nEpoch: [2]  [20/58]  eta: 0:00:39  lr: 0.000500  loss: 0.1805 (0.1780)  loss_classifier: 0.0845 (0.0841)  loss_box_reg: 0.0778 (0.0781)  loss_objectness: 0.0055 (0.0057)  loss_rpn_box_reg: 0.0096 (0.0101)  time: 1.0165  data: 0.0138  max mem: 4125\nEpoch: [2]  [30/58]  eta: 0:00:29  lr: 0.000500  loss: 0.1773 (0.1788)  loss_classifier: 0.0821 (0.0846)  loss_box_reg: 0.0776 (0.0781)  loss_objectness: 0.0057 (0.0063)  loss_rpn_box_reg: 0.0096 (0.0098)  time: 1.0402  data: 0.0145  max mem: 4125\nEpoch: [2]  [40/58]  eta: 0:00:18  lr: 0.000500  loss: 0.1869 (0.1841)  loss_classifier: 0.0878 (0.0868)  loss_box_reg: 0.0753 (0.0803)  loss_objectness: 0.0071 (0.0068)  loss_rpn_box_reg: 0.0099 (0.0103)  time: 1.0476  data: 0.0153  max mem: 4125\nEpoch: [2]  [50/58]  eta: 0:00:08  lr: 0.000500  loss: 0.1778 (0.1817)  loss_classifier: 0.0867 (0.0863)  loss_box_reg: 0.0722 (0.0790)  loss_objectness: 0.0064 (0.0063)  loss_rpn_box_reg: 0.0096 (0.0101)  time: 1.0469  data: 0.0151  max mem: 4125\nEpoch: [2]  [57/58]  eta: 0:00:01  lr: 0.000500  loss: 0.1636 (0.1814)  loss_classifier: 0.0790 (0.0861)  loss_box_reg: 0.0721 (0.0790)  loss_objectness: 0.0044 (0.0062)  loss_rpn_box_reg: 0.0094 (0.0102)  time: 1.0446  data: 0.0144  max mem: 4125\nEpoch: [2] Total time: 0:01:00 (1.0449 s / it)\n\nscore: 0.05272104205670115\nepoch 3\nEpoch: [3]  [ 0/58]  eta: 0:01:29  lr: 0.000500  loss: 0.1512 (0.1512)  loss_classifier: 0.0718 (0.0718)  loss_box_reg: 0.0664 (0.0664)  loss_objectness: 0.0020 (0.0020)  loss_rpn_box_reg: 0.0110 (0.0110)  time: 1.5386  data: 0.4770  max mem: 4125\nEpoch: [3]  [10/58]  eta: 0:00:51  lr: 0.000500  loss: 0.1745 (0.1665)  loss_classifier: 0.0791 (0.0785)  loss_box_reg: 0.0718 (0.0733)  loss_objectness: 0.0045 (0.0050)  loss_rpn_box_reg: 0.0094 (0.0097)  time: 1.0717  data: 0.0559  max mem: 4125\nEpoch: [3]  [20/58]  eta: 0:00:40  lr: 0.000500  loss: 0.1729 (0.1704)  loss_classifier: 0.0775 (0.0807)  loss_box_reg: 0.0736 (0.0750)  loss_objectness: 0.0045 (0.0049)  loss_rpn_box_reg: 0.0094 (0.0099)  time: 1.0352  data: 0.0139  max mem: 4125\nEpoch: [3]  [30/58]  eta: 0:00:29  lr: 0.000500  loss: 0.1728 (0.1721)  loss_classifier: 0.0812 (0.0818)  loss_box_reg: 0.0730 (0.0750)  loss_objectness: 0.0048 (0.0049)  loss_rpn_box_reg: 0.0095 (0.0103)  time: 1.0453  data: 0.0144  max mem: 4125\nEpoch: [3]  [40/58]  eta: 0:00:18  lr: 0.000500  loss: 0.1728 (0.1729)  loss_classifier: 0.0812 (0.0819)  loss_box_reg: 0.0775 (0.0762)  loss_objectness: 0.0052 (0.0049)  loss_rpn_box_reg: 0.0093 (0.0099)  time: 1.0491  data: 0.0155  max mem: 4125\nEpoch: [3]  [50/58]  eta: 0:00:08  lr: 0.000500  loss: 0.1706 (0.1719)  loss_classifier: 0.0782 (0.0813)  loss_box_reg: 0.0789 (0.0754)  loss_objectness: 0.0053 (0.0052)  loss_rpn_box_reg: 0.0092 (0.0100)  time: 1.0557  data: 0.0157  max mem: 4125\nEpoch: [3]  [57/58]  eta: 0:00:01  lr: 0.000500  loss: 0.1605 (0.1704)  loss_classifier: 0.0732 (0.0806)  loss_box_reg: 0.0698 (0.0744)  loss_objectness: 0.0057 (0.0055)  loss_rpn_box_reg: 0.0093 (0.0099)  time: 1.0549  data: 0.0152  max mem: 4125\nEpoch: [3] Total time: 0:01:01 (1.0543 s / it)\n\nscore: 0.058595011393475394\nepoch 4\nEpoch: [4]  [ 0/58]  eta: 0:01:27  lr: 0.000050  loss: 0.1582 (0.1582)  loss_classifier: 0.0753 (0.0753)  loss_box_reg: 0.0686 (0.0686)  loss_objectness: 0.0049 (0.0049)  loss_rpn_box_reg: 0.0094 (0.0094)  time: 1.5158  data: 0.4612  max mem: 4125\nEpoch: [4]  [10/58]  eta: 0:00:51  lr: 0.000050  loss: 0.1510 (0.1564)  loss_classifier: 0.0676 (0.0722)  loss_box_reg: 0.0685 (0.0693)  loss_objectness: 0.0049 (0.0059)  loss_rpn_box_reg: 0.0088 (0.0090)  time: 1.0757  data: 0.0556  max mem: 4125\nEpoch: [4]  [20/58]  eta: 0:00:39  lr: 0.000050  loss: 0.1634 (0.1660)  loss_classifier: 0.0763 (0.0775)  loss_box_reg: 0.0727 (0.0733)  loss_objectness: 0.0039 (0.0052)  loss_rpn_box_reg: 0.0094 (0.0100)  time: 1.0158  data: 0.0140  max mem: 4125\nEpoch: [4]  [30/58]  eta: 0:00:28  lr: 0.000050  loss: 0.1643 (0.1647)  loss_classifier: 0.0767 (0.0766)  loss_box_reg: 0.0752 (0.0732)  loss_objectness: 0.0033 (0.0050)  loss_rpn_box_reg: 0.0094 (0.0099)  time: 0.9972  data: 0.0143  max mem: 4125\nEpoch: [4]  [40/58]  eta: 0:00:18  lr: 0.000050  loss: 0.1596 (0.1623)  loss_classifier: 0.0730 (0.0758)  loss_box_reg: 0.0692 (0.0718)  loss_objectness: 0.0031 (0.0050)  loss_rpn_box_reg: 0.0088 (0.0098)  time: 0.9989  data: 0.0154  max mem: 4125\nEpoch: [4]  [50/58]  eta: 0:00:08  lr: 0.000050  loss: 0.1460 (0.1604)  loss_classifier: 0.0681 (0.0752)  loss_box_reg: 0.0642 (0.0707)  loss_objectness: 0.0033 (0.0049)  loss_rpn_box_reg: 0.0083 (0.0096)  time: 1.0050  data: 0.0151  max mem: 4125\nEpoch: [4]  [57/58]  eta: 0:00:01  lr: 0.000050  loss: 0.1636 (0.1613)  loss_classifier: 0.0750 (0.0758)  loss_box_reg: 0.0669 (0.0711)  loss_objectness: 0.0041 (0.0048)  loss_rpn_box_reg: 0.0087 (0.0096)  time: 1.0121  data: 0.0148  max mem: 4125\nEpoch: [4] Total time: 0:00:59 (1.0181 s / it)\n\nscore: 0.058614816047360824\nepoch 0\nEpoch: [0]  [ 0/58]  eta: 0:01:36  lr: 0.005000  loss: 0.8317 (0.8317)  loss_classifier: 0.6797 (0.6797)  loss_box_reg: 0.0818 (0.0818)  loss_objectness: 0.0494 (0.0494)  loss_rpn_box_reg: 0.0208 (0.0208)  time: 1.6563  data: 0.5418  max mem: 4339\nEpoch: [0]  [10/58]  eta: 0:00:52  lr: 0.005000  loss: 0.3491 (0.3855)  loss_classifier: 0.1657 (0.2044)  loss_box_reg: 0.1034 (0.1007)  loss_objectness: 0.0634 (0.0623)  loss_rpn_box_reg: 0.0167 (0.0181)  time: 1.0962  data: 0.0614  max mem: 4600\nEpoch: [0]  [20/58]  eta: 0:00:40  lr: 0.005000  loss: 0.2843 (0.3243)  loss_classifier: 0.1214 (0.1608)  loss_box_reg: 0.1034 (0.1025)  loss_objectness: 0.0379 (0.0448)  loss_rpn_box_reg: 0.0143 (0.0163)  time: 1.0425  data: 0.0137  max mem: 4600\nEpoch: [0]  [30/58]  eta: 0:00:29  lr: 0.005000  loss: 0.2843 (0.3195)  loss_classifier: 0.1220 (0.1539)  loss_box_reg: 0.1197 (0.1127)  loss_objectness: 0.0208 (0.0374)  loss_rpn_box_reg: 0.0142 (0.0156)  time: 1.0509  data: 0.0146  max mem: 4600\nEpoch: [0]  [40/58]  eta: 0:00:19  lr: 0.005000  loss: 0.3048 (0.3142)  loss_classifier: 0.1323 (0.1509)  loss_box_reg: 0.1354 (0.1156)  loss_objectness: 0.0176 (0.0325)  loss_rpn_box_reg: 0.0147 (0.0153)  time: 1.0517  data: 0.0155  max mem: 4600\nEpoch: [0]  [50/58]  eta: 0:00:08  lr: 0.005000  loss: 0.3016 (0.3108)  loss_classifier: 0.1348 (0.1488)  loss_box_reg: 0.1313 (0.1175)  loss_objectness: 0.0146 (0.0301)  loss_rpn_box_reg: 0.0127 (0.0145)  time: 1.0323  data: 0.0149  max mem: 4600\nEpoch: [0]  [57/58]  eta: 0:00:01  lr: 0.005000  loss: 0.2969 (0.3061)  loss_classifier: 0.1348 (0.1468)  loss_box_reg: 0.1237 (0.1168)  loss_objectness: 0.0146 (0.0282)  loss_rpn_box_reg: 0.0118 (0.0143)  time: 1.0245  data: 0.0138  max mem: 4600\nEpoch: [0] Total time: 0:01:00 (1.0514 s / it)\n\nscore: 0.020120591059862268\nepoch 1\nEpoch: [1]  [ 0/58]  eta: 0:01:30  lr: 0.005000  loss: 0.2364 (0.2364)  loss_classifier: 0.1113 (0.1113)  loss_box_reg: 0.0994 (0.0994)  loss_objectness: 0.0156 (0.0156)  loss_rpn_box_reg: 0.0101 (0.0101)  time: 1.5652  data: 0.5499  max mem: 4600\nEpoch: [1]  [10/58]  eta: 0:00:50  lr: 0.005000  loss: 0.2364 (0.2364)  loss_classifier: 0.1162 (0.1155)  loss_box_reg: 0.0994 (0.0961)  loss_objectness: 0.0115 (0.0133)  loss_rpn_box_reg: 0.0108 (0.0116)  time: 1.0556  data: 0.0599  max mem: 4600\nEpoch: [1]  [20/58]  eta: 0:00:39  lr: 0.005000  loss: 0.2496 (0.2501)  loss_classifier: 0.1216 (0.1224)  loss_box_reg: 0.1056 (0.1037)  loss_objectness: 0.0115 (0.0127)  loss_rpn_box_reg: 0.0111 (0.0113)  time: 1.0157  data: 0.0123  max mem: 4600\nEpoch: [1]  [30/58]  eta: 0:00:28  lr: 0.005000  loss: 0.2496 (0.2469)  loss_classifier: 0.1242 (0.1214)  loss_box_reg: 0.1067 (0.1014)  loss_objectness: 0.0117 (0.0129)  loss_rpn_box_reg: 0.0109 (0.0111)  time: 1.0149  data: 0.0136  max mem: 4600\nEpoch: [1]  [40/58]  eta: 0:00:18  lr: 0.005000  loss: 0.2420 (0.2527)  loss_classifier: 0.1156 (0.1241)  loss_box_reg: 0.1016 (0.1035)  loss_objectness: 0.0117 (0.0132)  loss_rpn_box_reg: 0.0109 (0.0119)  time: 1.0056  data: 0.0136  max mem: 4600\nEpoch: [1]  [50/58]  eta: 0:00:08  lr: 0.005000  loss: 0.2374 (0.2481)  loss_classifier: 0.1133 (0.1211)  loss_box_reg: 0.1027 (0.1022)  loss_objectness: 0.0097 (0.0129)  loss_rpn_box_reg: 0.0119 (0.0118)  time: 1.0076  data: 0.0142  max mem: 4600\nEpoch: [1]  [57/58]  eta: 0:00:01  lr: 0.005000  loss: 0.2420 (0.2479)  loss_classifier: 0.1135 (0.1211)  loss_box_reg: 0.1064 (0.1022)  loss_objectness: 0.0091 (0.0126)  loss_rpn_box_reg: 0.0117 (0.0119)  time: 1.0101  data: 0.0150  max mem: 4600\nEpoch: [1] Total time: 0:00:59 (1.0213 s / it)\n\nscore: 0.033126437400404\nepoch 2\nEpoch: [2]  [ 0/58]  eta: 0:01:33  lr: 0.000500  loss: 0.2027 (0.2027)  loss_classifier: 0.0979 (0.0979)  loss_box_reg: 0.0811 (0.0811)  loss_objectness: 0.0147 (0.0147)  loss_rpn_box_reg: 0.0090 (0.0090)  time: 1.6081  data: 0.6203  max mem: 4600\nEpoch: [2]  [10/58]  eta: 0:00:49  lr: 0.000500  loss: 0.2027 (0.2082)  loss_classifier: 0.0985 (0.1002)  loss_box_reg: 0.0832 (0.0874)  loss_objectness: 0.0095 (0.0094)  loss_rpn_box_reg: 0.0109 (0.0112)  time: 1.0321  data: 0.0732  max mem: 4600\nEpoch: [2]  [20/58]  eta: 0:00:38  lr: 0.000500  loss: 0.1939 (0.2069)  loss_classifier: 0.0953 (0.1008)  loss_box_reg: 0.0832 (0.0868)  loss_objectness: 0.0070 (0.0080)  loss_rpn_box_reg: 0.0110 (0.0113)  time: 0.9759  data: 0.0186  max mem: 4600\nEpoch: [2]  [30/58]  eta: 0:00:27  lr: 0.000500  loss: 0.1973 (0.2065)  loss_classifier: 0.0926 (0.0999)  loss_box_reg: 0.0834 (0.0882)  loss_objectness: 0.0060 (0.0072)  loss_rpn_box_reg: 0.0110 (0.0112)  time: 0.9791  data: 0.0185  max mem: 4600\nEpoch: [2]  [40/58]  eta: 0:00:17  lr: 0.000500  loss: 0.2046 (0.2023)  loss_classifier: 0.0926 (0.0976)  loss_box_reg: 0.0850 (0.0871)  loss_objectness: 0.0048 (0.0067)  loss_rpn_box_reg: 0.0101 (0.0108)  time: 0.9781  data: 0.0189  max mem: 4600\nEpoch: [2]  [50/58]  eta: 0:00:07  lr: 0.000500  loss: 0.1975 (0.2014)  loss_classifier: 0.0929 (0.0971)  loss_box_reg: 0.0849 (0.0870)  loss_objectness: 0.0051 (0.0067)  loss_rpn_box_reg: 0.0099 (0.0107)  time: 0.9773  data: 0.0188  max mem: 4600\nEpoch: [2]  [57/58]  eta: 0:00:00  lr: 0.000500  loss: 0.1943 (0.2018)  loss_classifier: 0.0926 (0.0972)  loss_box_reg: 0.0849 (0.0872)  loss_objectness: 0.0062 (0.0067)  loss_rpn_box_reg: 0.0104 (0.0107)  time: 0.9791  data: 0.0187  max mem: 4600\nEpoch: [2] Total time: 0:00:57 (0.9908 s / it)\n\nscore: 0.046161252307035154\nepoch 3\nEpoch: [3]  [ 0/58]  eta: 0:01:33  lr: 0.000500  loss: 0.2128 (0.2128)  loss_classifier: 0.1025 (0.1025)  loss_box_reg: 0.0840 (0.0840)  loss_objectness: 0.0154 (0.0154)  loss_rpn_box_reg: 0.0108 (0.0108)  time: 1.6193  data: 0.6119  max mem: 4600\nEpoch: [3]  [10/58]  eta: 0:00:50  lr: 0.000500  loss: 0.1890 (0.1951)  loss_classifier: 0.0934 (0.0901)  loss_box_reg: 0.0820 (0.0870)  loss_objectness: 0.0066 (0.0069)  loss_rpn_box_reg: 0.0111 (0.0111)  time: 1.0425  data: 0.0704  max mem: 4600\nEpoch: [3]  [20/58]  eta: 0:00:38  lr: 0.000500  loss: 0.1913 (0.1970)  loss_classifier: 0.0934 (0.0935)  loss_box_reg: 0.0820 (0.0868)  loss_objectness: 0.0050 (0.0060)  loss_rpn_box_reg: 0.0099 (0.0106)  time: 0.9907  data: 0.0181  max mem: 4600\nEpoch: [3]  [30/58]  eta: 0:00:28  lr: 0.000500  loss: 0.1961 (0.1938)  loss_classifier: 0.0907 (0.0913)  loss_box_reg: 0.0844 (0.0863)  loss_objectness: 0.0045 (0.0057)  loss_rpn_box_reg: 0.0097 (0.0105)  time: 0.9886  data: 0.0195  max mem: 4600\nEpoch: [3]  [40/58]  eta: 0:00:17  lr: 0.000500  loss: 0.1850 (0.1929)  loss_classifier: 0.0898 (0.0915)  loss_box_reg: 0.0828 (0.0855)  loss_objectness: 0.0038 (0.0056)  loss_rpn_box_reg: 0.0095 (0.0104)  time: 0.9757  data: 0.0188  max mem: 4600\nEpoch: [3]  [50/58]  eta: 0:00:07  lr: 0.000500  loss: 0.1994 (0.1965)  loss_classifier: 0.0933 (0.0937)  loss_box_reg: 0.0829 (0.0865)  loss_objectness: 0.0041 (0.0057)  loss_rpn_box_reg: 0.0101 (0.0106)  time: 0.9708  data: 0.0187  max mem: 4600\nEpoch: [3]  [57/58]  eta: 0:00:00  lr: 0.000500  loss: 0.1850 (0.1940)  loss_classifier: 0.0923 (0.0928)  loss_box_reg: 0.0821 (0.0853)  loss_objectness: 0.0041 (0.0054)  loss_rpn_box_reg: 0.0104 (0.0104)  time: 0.9721  data: 0.0190  max mem: 4600\nEpoch: [3] Total time: 0:00:57 (0.9919 s / it)\n\nscore: 0.04629586893916085\nepoch 4\nEpoch: [4]  [ 0/58]  eta: 0:01:33  lr: 0.000050  loss: 0.2008 (0.2008)  loss_classifier: 0.1045 (0.1045)  loss_box_reg: 0.0846 (0.0846)  loss_objectness: 0.0041 (0.0041)  loss_rpn_box_reg: 0.0076 (0.0076)  time: 1.6074  data: 0.5964  max mem: 4600\nEpoch: [4]  [10/58]  eta: 0:00:49  lr: 0.000050  loss: 0.2006 (0.1934)  loss_classifier: 0.0986 (0.0934)  loss_box_reg: 0.0861 (0.0843)  loss_objectness: 0.0062 (0.0059)  loss_rpn_box_reg: 0.0103 (0.0098)  time: 1.0336  data: 0.0688  max mem: 4600\nEpoch: [4]  [20/58]  eta: 0:00:38  lr: 0.000050  loss: 0.1752 (0.1826)  loss_classifier: 0.0815 (0.0876)  loss_box_reg: 0.0794 (0.0794)  loss_objectness: 0.0057 (0.0053)  loss_rpn_box_reg: 0.0103 (0.0103)  time: 0.9757  data: 0.0172  max mem: 4600\nEpoch: [4]  [30/58]  eta: 0:00:27  lr: 0.000050  loss: 0.1752 (0.1853)  loss_classifier: 0.0849 (0.0887)  loss_box_reg: 0.0791 (0.0807)  loss_objectness: 0.0040 (0.0054)  loss_rpn_box_reg: 0.0102 (0.0104)  time: 0.9762  data: 0.0188  max mem: 4600\nEpoch: [4]  [40/58]  eta: 0:00:17  lr: 0.000050  loss: 0.1986 (0.1879)  loss_classifier: 0.0923 (0.0893)  loss_box_reg: 0.0884 (0.0828)  loss_objectness: 0.0044 (0.0054)  loss_rpn_box_reg: 0.0102 (0.0105)  time: 0.9778  data: 0.0190  max mem: 4600\nEpoch: [4]  [50/58]  eta: 0:00:07  lr: 0.000050  loss: 0.1864 (0.1846)  loss_classifier: 0.0865 (0.0881)  loss_box_reg: 0.0838 (0.0812)  loss_objectness: 0.0037 (0.0051)  loss_rpn_box_reg: 0.0096 (0.0102)  time: 0.9814  data: 0.0193  max mem: 4600\nEpoch: [4]  [57/58]  eta: 0:00:00  lr: 0.000050  loss: 0.1800 (0.1850)  loss_classifier: 0.0844 (0.0884)  loss_box_reg: 0.0779 (0.0813)  loss_objectness: 0.0037 (0.0052)  loss_rpn_box_reg: 0.0100 (0.0101)  time: 0.9802  data: 0.0193  max mem: 4600\nEpoch: [4] Total time: 0:00:57 (0.9899 s / it)\n\nscore: 0.04908925827497234\naverage val score: 0.053852037161166585\n"
    },
    {
     "data": {
      "application/vnd.jupyter.widget-view+json": {
       "model_id": "47d0861ab6b14b75a96f49ca5b5916d0",
       "version_major": 2,
       "version_minor": 0
      },
      "text/plain": "HBox(children=(IntProgress(value=0, max=34), HTML(value='')))"
     },
     "metadata": {},
     "output_type": "display_data"
    },
    {
     "data": {
      "application/vnd.jupyter.widget-view+json": {
       "model_id": "8eaa7c9f12174725a150c3cc07b8fa8d",
       "version_major": 2,
       "version_minor": 0
      },
      "text/plain": "HBox(children=(IntProgress(value=0, max=34), HTML(value='')))"
     },
     "metadata": {},
     "output_type": "display_data"
    },
    {
     "data": {
      "application/vnd.jupyter.widget-view+json": {
       "model_id": "6cdac127772346cdbe2823327bf34662",
       "version_major": 2,
       "version_minor": 0
      },
      "text/plain": "HBox(children=(IntProgress(value=0, max=34), HTML(value='')))"
     },
     "metadata": {},
     "output_type": "display_data"
    },
    {
     "data": {
      "application/vnd.jupyter.widget-view+json": {
       "model_id": "160e29b8418b445db702d62cdc720fca",
       "version_major": 2,
       "version_minor": 0
      },
      "text/plain": "HBox(children=(IntProgress(value=0, max=34), HTML(value='')))"
     },
     "metadata": {},
     "output_type": "display_data"
    },
    {
     "data": {
      "application/vnd.jupyter.widget-view+json": {
       "model_id": "3a5c0b401d104c44b161ce14e191e645",
       "version_major": 2,
       "version_minor": 0
      },
      "text/plain": "HBox(children=(IntProgress(value=0, max=34), HTML(value='')))"
     },
     "metadata": {},
     "output_type": "display_data"
    },
    {
     "data": {
      "application/vnd.jupyter.widget-view+json": {
       "model_id": "c137c1c8890a4a5e8d6a1e1835c8de80",
       "version_major": 2,
       "version_minor": 0
      },
      "text/plain": "HBox(children=(IntProgress(value=0, max=34), HTML(value='')))"
     },
     "metadata": {},
     "output_type": "display_data"
    },
    {
     "data": {
      "application/vnd.jupyter.widget-view+json": {
       "model_id": "cdf670cd461348f8a877f4d39ec60c31",
       "version_major": 2,
       "version_minor": 0
      },
      "text/plain": "HBox(children=(IntProgress(value=0, max=34), HTML(value='')))"
     },
     "metadata": {},
     "output_type": "display_data"
    },
    {
     "data": {
      "application/vnd.jupyter.widget-view+json": {
       "model_id": "1f0baa74556b4776afc63c8f418b01b4",
       "version_major": 2,
       "version_minor": 0
      },
      "text/plain": "HBox(children=(IntProgress(value=0, max=34), HTML(value='')))"
     },
     "metadata": {},
     "output_type": "display_data"
    },
    {
     "data": {
      "application/vnd.jupyter.widget-view+json": {
       "model_id": "643491286b434055a9ce8108e7c586b1",
       "version_major": 2,
       "version_minor": 0
      },
      "text/plain": "HBox(children=(IntProgress(value=0, max=34), HTML(value='')))"
     },
     "metadata": {},
     "output_type": "display_data"
    },
    {
     "data": {
      "application/vnd.jupyter.widget-view+json": {
       "model_id": "e81e1f899b7449178da7bc525c083ea3",
       "version_major": 2,
       "version_minor": 0
      },
      "text/plain": "HBox(children=(IntProgress(value=0, max=34), HTML(value='')))"
     },
     "metadata": {},
     "output_type": "display_data"
    }
   ],
   "source": [
    "device = torch.device(\"cuda\") if torch.cuda.is_available() else torch.device(\"cpu\")\n",
    "num_classes = 2\n",
    "img_size = 1024\n",
    "print(\"your device: {}\".format(device))\n",
    "\n",
    "# Аугментация\n",
    "aug = get_aug([Flip(p=0.5), Rotate(limit=15, p=0.5)])\n",
    "\n",
    "# Для аккуратной валидации используйте больше разбиений\n",
    "n_splits = 2\n",
    "cv = list(ShuffleSplit(n_splits=n_splits, random_state=15, test_size=0.2).split(np.zeros((len(image_fps), 1)),\n",
    "                                                                   np.zeros(len(image_fps))))\n",
    "\n",
    "params = {\"img_size\": img_size, \"num_classes\": num_classes, \"num_epochs\": 5, \"device\": device}\n",
    "\n",
    "images_files = np.array(image_fps)\n",
    "\n",
    "make_validation(images_files=images_files, image_annotations=image_annotations, cv=cv, params=params, dataset=\"RSNADataset\", transformations=None)\n",
    "# make_validation(images_files=images_files, image_annotations=image_annotations, cv=cv, params=params)"
   ]
  },
  {
   "cell_type": "markdown",
   "metadata": {},
   "outputs": [],
   "source": [
    "## Test"
   ]
  },
  {
   "cell_type": "code",
   "execution_count": 93,
   "metadata": {},
   "outputs": [],
   "source": [
    "from torchvision.ops import nms\n",
    "def get_test_predictions_nms(models, test_images, device, img_size):\n",
    "    modelListRes = []\n",
    "    for m in models:\n",
    "        modelListRes.append(get_test_predictions(m, test_images, device, img_size))\n",
    "\n",
    "    resDict = {}\n",
    "    for modelRes in modelListRes:\n",
    "        for res in modelRes:\n",
    "            resDict[res['patient_id']] = resDict.get(res['patient_id'], {'patient_id': res['patient_id']})\n",
    "            if resDict[res['patient_id']].get('boxes', np.array([])).any():\n",
    "                resDict[res['patient_id']]['boxes'] = np.vstack((resDict[res['patient_id']]['boxes'], res['boxes']))\n",
    "            else:\n",
    "                resDict[res['patient_id']]['boxes'] = res['boxes']\n",
    "            if resDict[res['patient_id']].get('scores', np.array([])).any():\n",
    "                resDict[res['patient_id']]['scores'] = np.concatenate((resDict[res['patient_id']]['scores'], res['scores']))\n",
    "            else:\n",
    "                resDict[res['patient_id']]['scores'] = res['scores']\n",
    "\n",
    "    a = []\n",
    "    for key, value in resDict.items(): \n",
    "        boxes = torch.tensor(value['boxes'])\n",
    "        scores = torch.tensor(value['scores'])\n",
    "        nmsResult = nms(boxes, scores, 0.3)\n",
    "        imgInfo = {'patient_id':key, 'boxes':[], 'scores':[]}\n",
    "        for i in range(len(nmsResult)):\n",
    "            imgInfo['boxes'].append(boxes[nmsResult[i]].tolist())\n",
    "            imgInfo['scores'].append(scores[nmsResult[i]].item())\n",
    "            if i == 2:\n",
    "                break\n",
    "        imgInfo['boxes'] = np.array(imgInfo['boxes'])\n",
    "        a.append(imgInfo)\n",
    "    return a"
   ]
  },
  {
   "cell_type": "code",
   "execution_count": 97,
   "metadata": {},
   "outputs": [
    {
     "data": {
      "application/vnd.jupyter.widget-view+json": {
       "model_id": "42213f6be99a426ca89671a1386bf75e",
       "version_major": 2,
       "version_minor": 0
      },
      "text/plain": "HBox(children=(IntProgress(value=0, max=2), HTML(value='')))"
     },
     "metadata": {},
     "output_type": "display_data"
    },
    {
     "name": "stdout",
     "output_type": "stream",
     "text": "\n\n"
    },
    {
     "data": {
      "application/vnd.jupyter.widget-view+json": {
       "model_id": "e47b63e0153d439a86c710e92cc2af2e",
       "version_major": 2,
       "version_minor": 0
      },
      "text/plain": "HBox(children=(IntProgress(value=0, max=2), HTML(value='')))"
     },
     "metadata": {},
     "output_type": "display_data"
    },
    {
     "data": {
      "text/plain": "[{'patient_id': '04384b80-0b9e-4744-85e4-f5184fc073e9',\n  'boxes': [[171.83824157714844,\n    572.594482421875,\n    366.2283630371094,\n    763.4937133789062],\n   [578.368408203125, 382.0631103515625, 822.3856201171875, 811.136962890625],\n   [125.1860122680664, 312.7394714355469, 494.4402160644531, 924.36083984375]],\n  'scores': [0.7624905705451965, 0.23498092591762543, 0.07064270973205566]},\n {'patient_id': '1189f742-0450-455c-8311-192da30f23b8',\n  'boxes': [[250.8720245361328,\n    495.53759765625,\n    458.2784423828125,\n    769.0703125],\n   [642.4140625, 600.7378540039062, 842.4464111328125, 821.7581176757812],\n   [616.894775390625,\n    251.45193481445312,\n    866.589599609375,\n    754.3848876953125]],\n  'scores': [0.9274036288261414, 0.8253685235977173, 0.5534019470214844]}]"
     },
     "execution_count": 97,
     "metadata": {},
     "output_type": "execute_result"
    }
   ],
   "source": [
    "model1 = get_model(num_classes=num_classes)\n",
    "model1.load_state_dict(torch.load(\"fold_num_0_model\"))\n",
    "model1.to(device)\n",
    "\n",
    "model2 = get_model(num_classes=num_classes)\n",
    "model2.load_state_dict(torch.load(\"fold_num_1_model\"))\n",
    "model2.to(device)\n",
    "\n",
    "test_images = get_dicom_fps(os.path.join(data_path, \"stage_2_test_images\"))\n",
    "\n",
    "imgs_info = get_test_predictions_nms([model1, model2], test_images[:2], device, img_size)\n",
    "imgs_info\n",
    "# min_conf -- минимальный порог уверенности для того, чтобы считать объект пневмонией\n",
    "sub_list = get_sub_list(imgs_info, img_size, min_conf=0.7)\n",
    "\n",
    "# write_submission(sub_list)"
   ]
  },
  {
   "cell_type": "code",
   "execution_count": null,
   "metadata": {},
   "outputs": [],
   "source": []
  },
  {
   "cell_type": "code",
   "execution_count": null,
   "metadata": {},
   "outputs": [],
   "source": []
  }
 ],
 "metadata": {
  "file_extension": ".py",
  "kernelspec": {
   "display_name": "Python 3",
   "language": "python",
   "name": "python3"
  },
  "language_info": {
   "codemirror_mode": {
    "name": "ipython",
    "version": 3
   },
   "file_extension": ".py",
   "mimetype": "text/x-python",
   "name": "python",
   "nbconvert_exporter": "python",
   "pygments_lexer": "ipython3",
   "version": "3.6.9"
  },
  "mimetype": "text/x-python",
  "name": "python",
  "npconvert_exporter": "python",
  "pygments_lexer": "ipython3",
  "version": 3
 },
 "nbformat": 4,
 "nbformat_minor": 2
}